{
 "cells": [
  {
   "cell_type": "code",
   "execution_count": 2,
   "id": "49d7c3fc",
   "metadata": {},
   "outputs": [],
   "source": [
    "import pandas as pd\n",
    "import numpy as np\n",
    "import re\n",
    "from mechanize import Browser\n",
    "\n",
    "Root = \"C:/Users/JJvRijn/Documents/Python_Scripts\""
   ]
  },
  {
   "cell_type": "code",
   "execution_count": 58,
   "id": "03b5b43d",
   "metadata": {},
   "outputs": [],
   "source": [
    "browser = Browser()\n",
    "browser.open(\"http://split4.pmfst.hr/dadp/?a=list\")\n",
    "response = browser.reload()\n",
    "content = response.read()\n",
    "names = re.findall(r'\\bSP_[0-9, a-z, A-Z]*', str(content))"
   ]
  },
  {
   "cell_type": "code",
   "execution_count": 81,
   "id": "3c825afb",
   "metadata": {},
   "outputs": [],
   "source": [
    "seq = []\n",
    "toxic = []\n",
    "toxic_type =[]\n",
    "for r in names:\n",
    "    URL = \"http://split4.pmfst.hr/dadp/?a=kartica&id=\" + str(r)\n",
    "    browser = Browser()\n",
    "    browser.open(URL)\n",
    "    response = browser.reload()\n",
    "    content = response.read()\n",
    "    table = content.split(b\"</table>\")[1]\n",
    "    results = table.split(b\"</td>\")\n",
    "    toxic_type.append(results[5].split(b\"<td>\",1)[1])\n",
    "    seq.append(str(results[-5]).split(\"b'<td>\",1)[1])\n",
    "    if len(re.findall(r\"[-+]?\\d*\\.\\d+|\\d+\", str(results[-4]))) >= 2:\n",
    "        toxic.append(re.findall(r\"[-+]?\\d*\\.\\d+|\\d+\", str(results[-4]))[1])\n",
    "    else:\n",
    "        toxic.append(\"Nan\")"
   ]
  },
  {
   "cell_type": "code",
   "execution_count": 86,
   "id": "6b968b59",
   "metadata": {},
   "outputs": [],
   "source": [
    "DADP_data = pd.DataFrame()\n",
    "DADP_data[\"ID\"] = names\n",
    "DADP_data[\"seq\"] = seq\n",
    "DADP_data['CONCENTRATION_µM'] = toxic\n",
    "DADP_data = DADP_data[DADP_data[\"CONCENTRATION_µM\"] != \"Nan\"]\n",
    "DADP_data = DADP_data.reset_index(drop=True)\n",
    "DADP_data[\"seq\"] = DADP_data[\"seq\"].str[:-1]"
   ]
  },
  {
   "cell_type": "code",
   "execution_count": 89,
   "id": "7b3264c3",
   "metadata": {},
   "outputs": [
    {
     "data": {
      "text/html": [
       "<div>\n",
       "<style scoped>\n",
       "    .dataframe tbody tr th:only-of-type {\n",
       "        vertical-align: middle;\n",
       "    }\n",
       "\n",
       "    .dataframe tbody tr th {\n",
       "        vertical-align: top;\n",
       "    }\n",
       "\n",
       "    .dataframe thead th {\n",
       "        text-align: right;\n",
       "    }\n",
       "</style>\n",
       "<table border=\"1\" class=\"dataframe\">\n",
       "  <thead>\n",
       "    <tr style=\"text-align: right;\">\n",
       "      <th></th>\n",
       "      <th>ID</th>\n",
       "      <th>seq</th>\n",
       "      <th>CONCENTRATION_µM</th>\n",
       "      <th>hem_activity</th>\n",
       "    </tr>\n",
       "  </thead>\n",
       "  <tbody>\n",
       "    <tr>\n",
       "      <th>0</th>\n",
       "      <td>SP_2586</td>\n",
       "      <td>LLGMIPLAISAISALSKL</td>\n",
       "      <td>40</td>\n",
       "      <td>HC50</td>\n",
       "    </tr>\n",
       "    <tr>\n",
       "      <th>1</th>\n",
       "      <td>SP_2587</td>\n",
       "      <td>GLWSKIKEAAKAAGKAALNAVTGLVNQGDQPS</td>\n",
       "      <td>200</td>\n",
       "      <td>HC50</td>\n",
       "    </tr>\n",
       "    <tr>\n",
       "      <th>2</th>\n",
       "      <td>SP_2589</td>\n",
       "      <td>GIMDTIKGAAKDVAAQLLDKLKCKITKC</td>\n",
       "      <td>200.00</td>\n",
       "      <td>HC50</td>\n",
       "    </tr>\n",
       "    <tr>\n",
       "      <th>3</th>\n",
       "      <td>SP_2590</td>\n",
       "      <td>FLGAIAGVAAKFLPKVFCFITKKC</td>\n",
       "      <td>8</td>\n",
       "      <td>HC50</td>\n",
       "    </tr>\n",
       "    <tr>\n",
       "      <th>4</th>\n",
       "      <td>SP_2591</td>\n",
       "      <td>FLPVIASVAAKVLPKVFCFITKKC</td>\n",
       "      <td>7</td>\n",
       "      <td>HC50</td>\n",
       "    </tr>\n",
       "    <tr>\n",
       "      <th>...</th>\n",
       "      <td>...</td>\n",
       "      <td>...</td>\n",
       "      <td>...</td>\n",
       "      <td>...</td>\n",
       "    </tr>\n",
       "    <tr>\n",
       "      <th>691</th>\n",
       "      <td>SP_Q1KLZ4</td>\n",
       "      <td>IIPLPLGYFAKKT</td>\n",
       "      <td>300.00</td>\n",
       "      <td>HC50</td>\n",
       "    </tr>\n",
       "    <tr>\n",
       "      <th>692</th>\n",
       "      <td>SP_Q2PGA7</td>\n",
       "      <td>AVDLAKIANKVLSSLF</td>\n",
       "      <td>250</td>\n",
       "      <td>HC50</td>\n",
       "    </tr>\n",
       "    <tr>\n",
       "      <th>693</th>\n",
       "      <td>SP_Q58T56</td>\n",
       "      <td>ILGPVIKTIGGVIGGLLKNL</td>\n",
       "      <td>90</td>\n",
       "      <td>HC50</td>\n",
       "    </tr>\n",
       "    <tr>\n",
       "      <th>694</th>\n",
       "      <td>SP_Q7T3K6</td>\n",
       "      <td>ALWKTMLKKLGTMALHAGKAALGAAADTISQGTQ</td>\n",
       "      <td>70.00</td>\n",
       "      <td>HC50</td>\n",
       "    </tr>\n",
       "    <tr>\n",
       "      <th>695</th>\n",
       "      <td>SP_Q99134</td>\n",
       "      <td>GMASKAGAIAGKIAKVALKAL</td>\n",
       "      <td>900</td>\n",
       "      <td>HC50</td>\n",
       "    </tr>\n",
       "  </tbody>\n",
       "</table>\n",
       "<p>696 rows × 4 columns</p>\n",
       "</div>"
      ],
      "text/plain": [
       "            ID                                 seq CONCENTRATION_µM  \\\n",
       "0      SP_2586                  LLGMIPLAISAISALSKL               40   \n",
       "1      SP_2587    GLWSKIKEAAKAAGKAALNAVTGLVNQGDQPS              200   \n",
       "2      SP_2589        GIMDTIKGAAKDVAAQLLDKLKCKITKC           200.00   \n",
       "3      SP_2590            FLGAIAGVAAKFLPKVFCFITKKC                8   \n",
       "4      SP_2591            FLPVIASVAAKVLPKVFCFITKKC                7   \n",
       "..         ...                                 ...              ...   \n",
       "691  SP_Q1KLZ4                       IIPLPLGYFAKKT           300.00   \n",
       "692  SP_Q2PGA7                    AVDLAKIANKVLSSLF              250   \n",
       "693  SP_Q58T56                ILGPVIKTIGGVIGGLLKNL               90   \n",
       "694  SP_Q7T3K6  ALWKTMLKKLGTMALHAGKAALGAAADTISQGTQ            70.00   \n",
       "695  SP_Q99134               GMASKAGAIAGKIAKVALKAL              900   \n",
       "\n",
       "    hem_activity  \n",
       "0           HC50  \n",
       "1           HC50  \n",
       "2           HC50  \n",
       "3           HC50  \n",
       "4           HC50  \n",
       "..           ...  \n",
       "691         HC50  \n",
       "692         HC50  \n",
       "693         HC50  \n",
       "694         HC50  \n",
       "695         HC50  \n",
       "\n",
       "[696 rows x 4 columns]"
      ]
     },
     "execution_count": 89,
     "metadata": {},
     "output_type": "execute_result"
    }
   ],
   "source": [
    "DADP_data"
   ]
  },
  {
   "cell_type": "code",
   "execution_count": 88,
   "id": "d0ef575b",
   "metadata": {},
   "outputs": [],
   "source": [
    "#showed me its all in micromolar for HC50\n",
    "pd.Series(toxic_type).value_counts()\n",
    "#so we add activity is 50% to the dataframes\n",
    "DADP_data[\"hem_activity\"] = \"HC50\""
   ]
  },
  {
   "cell_type": "code",
   "execution_count": 90,
   "id": "8317c0f2",
   "metadata": {},
   "outputs": [],
   "source": [
    "#Because its all HC50 it all needs a concentration over 300uM\n",
    "DADP_data['toxic'] = \"~\"\n",
    "for v in range(len(DADP_data)):\n",
    "    if float(DADP_data[\"CONCENTRATION_µM\"][v]) <= 300:\n",
    "        DADP_data.loc[v, \"toxic\"] = 1\n",
    "DADP_data = DADP_data[DADP_data[\"toxic\"]!= \"~\"]\n",
    "DADP_data = DADP_data.reset_index(drop=True)"
   ]
  },
  {
   "cell_type": "code",
   "execution_count": 215,
   "id": "632fedcd",
   "metadata": {},
   "outputs": [],
   "source": [
    "peptides = DADP_data[\"seq\"].unique()\n",
    "final_data = pd.DataFrame(peptides, columns=['seq'])\n",
    "for a in range(len(DADP_data)):\n",
    "    for n in range(len(peptides)):\n",
    "        toxic = []\n",
    "        toxic_count = 0\n",
    "        if DADP_data[\"seq\"][a] == peptides[n]:\n",
    "            toxic.append(float(DADP_data[\"toxic\"][a]))\n",
    "            toxic_count = sum(toxic)/len(toxic)\n",
    "            if toxic_count == len(toxic)/2:\n",
    "                final_data.loc[n, \"toxic\"] = \"~\"\n",
    "            if toxic_count <= len(toxic)/2:\n",
    "                final_data.loc[n, \"toxic\"] = 0\n",
    "            if toxic_count >= len(toxic)/2:\n",
    "                final_data.loc[n, \"toxic\"] = 1"
   ]
  },
  {
   "cell_type": "code",
   "execution_count": 220,
   "id": "3fdad4fc",
   "metadata": {},
   "outputs": [],
   "source": [
    "final_data.to_csv(\n",
    "    Root + \"/Programing/Data/AMP_focussed_data/DADP_data.csv\",index = False, header=True)"
   ]
  },
  {
   "cell_type": "code",
   "execution_count": 1,
   "id": "21c78381",
   "metadata": {},
   "outputs": [
    {
     "ename": "NameError",
     "evalue": "name 'final_data' is not defined",
     "output_type": "error",
     "traceback": [
      "\u001b[1;31m---------------------------------------------------------------------------\u001b[0m",
      "\u001b[1;31mNameError\u001b[0m                                 Traceback (most recent call last)",
      "\u001b[1;32m<ipython-input-1-f57a66ff6e2e>\u001b[0m in \u001b[0;36m<module>\u001b[1;34m\u001b[0m\n\u001b[1;32m----> 1\u001b[1;33m \u001b[0mlen\u001b[0m\u001b[1;33m(\u001b[0m\u001b[0mfinal_data\u001b[0m\u001b[1;33m)\u001b[0m\u001b[1;33m\u001b[0m\u001b[1;33m\u001b[0m\u001b[0m\n\u001b[0m",
      "\u001b[1;31mNameError\u001b[0m: name 'final_data' is not defined"
     ]
    }
   ],
   "source": [
    "final_data"
   ]
  }
 ],
 "metadata": {
  "kernelspec": {
   "display_name": "Python 3",
   "language": "python",
   "name": "python3"
  },
  "language_info": {
   "codemirror_mode": {
    "name": "ipython",
    "version": 3
   },
   "file_extension": ".py",
   "mimetype": "text/x-python",
   "name": "python",
   "nbconvert_exporter": "python",
   "pygments_lexer": "ipython3",
   "version": "3.8.8"
  }
 },
 "nbformat": 4,
 "nbformat_minor": 5
}
